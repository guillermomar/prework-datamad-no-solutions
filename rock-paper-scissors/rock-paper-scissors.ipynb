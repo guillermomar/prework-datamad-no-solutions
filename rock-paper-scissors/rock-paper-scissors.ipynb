{
 "cells": [
  {
   "cell_type": "markdown",
   "metadata": {},
   "source": [
    "<img src=\"https://bit.ly/2VnXWr2\" width=\"100\" align=\"left\">"
   ]
  },
  {
   "cell_type": "markdown",
   "metadata": {},
   "source": [
    "# Rock, Paper & Scissors\n",
    "\n",
    "Let's play the famous game against our computer. You can check the rules [here](https://en.wikipedia.org/wiki/Rock%E2%80%93paper%E2%80%93scissors). \n",
    "\n",
    "## Task\n",
    "Create a program that imitates the playability of the well known game of rock, paper, scissors. Follow the guidelines provided.\n",
    "\n",
    "## Tools\n",
    "1. Loop: **for/while**\n",
    "2. Functions: **input(), print()...**\n",
    "3. Conditional statements: **if, elif, else**\n",
    "4. Definition of functions. Modular programming\n",
    "5. Import modules\n",
    "\n",
    "**To solve this challenge, the use of functions is recommended.**\n",
    "\n",
    "#### 1. Import the choice function of the random module."
   ]
  },
  {
   "cell_type": "code",
   "execution_count": 1,
   "metadata": {},
   "outputs": [
    {
     "name": "stdout",
     "output_type": "stream",
     "text": [
      "2\n"
     ]
    }
   ],
   "source": [
    "import random\n",
    "\n",
    "list1 = [1, 2, 3, 4, 5, 6]  \n",
    "print(random.choice(list1)) "
   ]
  },
  {
   "cell_type": "markdown",
   "metadata": {},
   "source": [
    "#### 2. Create a list that includes the 3 possible gesture options of the game: 'rock', 'paper' or 'scissors'. Store the list in a variable called `gestures`."
   ]
  },
  {
   "cell_type": "code",
   "execution_count": 2,
   "metadata": {},
   "outputs": [],
   "source": [
    "gestures = [\"rock\" , \"paper\" , \"scissors\"]"
   ]
  },
  {
   "cell_type": "markdown",
   "metadata": {},
   "source": [
    "#### 3. Create a variable called `n_rounds` to store the maximum number of rounds to play in a game. \n",
    "Remember that the number of rounds must be odd: 1, 3, 5, ..."
   ]
  },
  {
   "cell_type": "code",
   "execution_count": 3,
   "metadata": {},
   "outputs": [],
   "source": [
    "n_rounds = 3"
   ]
  },
  {
   "cell_type": "markdown",
   "metadata": {},
   "source": [
    "#### 4. Create a variable called `rounds_to_win` to store the number of rounds that a player must win to win the game.\n",
    "**Hint**: the value stored in `rounds_to_win` depends on the value of `n_rounds`. "
   ]
  },
  {
   "cell_type": "code",
   "execution_count": 4,
   "metadata": {},
   "outputs": [],
   "source": [
    "rounds_to_win = 2"
   ]
  },
  {
   "cell_type": "markdown",
   "metadata": {},
   "source": [
    "#### 5. Create two variables to store the number of rounds that the computer and the player have won. Call these variables `cpu_score` and `player_score`."
   ]
  },
  {
   "cell_type": "code",
   "execution_count": 5,
   "metadata": {},
   "outputs": [],
   "source": [
    "cpu_score = 0\n",
    "player_score = 0"
   ]
  },
  {
   "cell_type": "markdown",
   "metadata": {},
   "source": [
    "#### 6. Define a function that randomly returns one of the 3 gesture options.\n",
    "You will use this function to simulate the gesture choice of the computer. "
   ]
  },
  {
   "cell_type": "code",
   "execution_count": 11,
   "metadata": {},
   "outputs": [
    {
     "name": "stdout",
     "output_type": "stream",
     "text": [
      "rock\n"
     ]
    }
   ],
   "source": [
    "def cpu_choice(gesture):\n",
    "  print(random.choice(gestures))\n",
    "\n",
    "cpu_choice(gestures)"
   ]
  },
  {
   "cell_type": "markdown",
   "metadata": {},
   "source": [
    "#### 7. Define a function that asks the player which is the gesture he or she wants to show: 'rock', 'paper' or 'scissors'.\n",
    "The player should only be allowed to choose one of the 3 gesture options. If the player's choice is not rock, paper or scissors, keep asking until it is."
   ]
  },
  {
   "cell_type": "code",
   "execution_count": 12,
   "metadata": {},
   "outputs": [
    {
     "name": "stdout",
     "output_type": "stream",
     "text": [
      "Insert your choice!:paper\n",
      "paper\n"
     ]
    }
   ],
   "source": [
    "gesture = input(\"Insert your choice!:\")\n",
    "\n",
    "def player_choice(gesture):\n",
    "  while gesture != \"rock\" and gesture != \"paper\" and gesture != \"scissors\":\n",
    "    gesture = input(\"Insert your choice!:\")\n",
    "  return gesture\n",
    "\n",
    "\n",
    "print(player_choice(gesture))"
   ]
  },
  {
   "cell_type": "markdown",
   "metadata": {},
   "source": [
    "#### 8. Define a function that checks who won a round. \n",
    "The function should return 0 if there is a tie, 1 if the computer wins and 2 if the player wins."
   ]
  },
  {
   "cell_type": "code",
   "execution_count": 48,
   "metadata": {},
   "outputs": [
    {
     "name": "stdout",
     "output_type": "stream",
     "text": [
      "Insert your choice!:rock\n",
      "1\n"
     ]
    }
   ],
   "source": [
    "def cpu_choice(gesture):\n",
    "  return random.choice(gestures)\n",
    "\n",
    "\n",
    "gesture = input(\"Insert your choice!:\")\n",
    "\n",
    "def player_choice(gesture):\n",
    "  while gesture != \"rock\" and gesture != \"paper\" and gesture != \"scissors\":\n",
    "    gesture = input(\"Insert your choice!:\")\n",
    "  return gesture\n",
    "\n",
    "\n",
    "\n",
    "\n",
    "def game(player,cpu):\n",
    "  if player == \"rock\":\n",
    "    if cpu == \"rock\":\n",
    "      print(0)\n",
    "    elif cpu == \"paper\":\n",
    "      print(1)\n",
    "    elif cpu == \"scissors\":\n",
    "      print(2)\n",
    "  elif player == \"paper\":\n",
    "    if cpu == \"rock\":\n",
    "      print(2)\n",
    "    elif cpu == \"paper\":\n",
    "      print(0)\n",
    "    elif cpu == \"scissors\":\n",
    "      print(1)\n",
    "  elif player == \"scissors\":\n",
    "    if cpu == \"rock\":\n",
    "      print(1)\n",
    "    elif cpu == \"paper\":\n",
    "      print(2)\n",
    "    elif cpu == \"scissors\":\n",
    "      print(0)\n",
    "\n",
    "    \n",
    "   \n",
    "game(player_choice(gesture),cpu_choice(gestures))"
   ]
  },
  {
   "cell_type": "markdown",
   "metadata": {},
   "source": [
    "#### 9. Define a function that prints the choice of the computer, the choice of the player and a message that announces who won the current round. \n",
    "You should also use this function to update the variables that count the number of rounds that the computer and the player have won. The score of the winner increases by one point. If there is a tie, the score does not increase."
   ]
  },
  {
   "cell_type": "code",
   "execution_count": 51,
   "metadata": {},
   "outputs": [
    {
     "name": "stdout",
     "output_type": "stream",
     "text": [
      "Player: rock vs CPU: rock, it is a tie!\n"
     ]
    }
   ],
   "source": [
    "def game(player,cpu):\n",
    "  cpu_score = 0\n",
    "  player_score = 0\n",
    "  if player == \"rock\":\n",
    "    if cpu == \"rock\":\n",
    "      print(\"Player: rock vs CPU: rock, it is a tie!\")\n",
    "    elif cpu == \"paper\":\n",
    "      print(\"Player: rock vs CPU: paper, you loose!\")\n",
    "      cpu_score += 1\n",
    "    elif cpu == \"scissors\":\n",
    "      print(\"Player: rock vs CPU: scissors, you win!\")\n",
    "      player_score += 1\n",
    "  elif player == \"paper\":\n",
    "    if cpu == \"rock\":\n",
    "      print(\"Player: paper vs CPU: rock, you win!\")\n",
    "      player_score += 1\n",
    "    elif cpu == \"paper\":\n",
    "      print(\"Player: paper vs CPU: paper, it is a tie!\")\n",
    "    elif cpu == \"scissors\":\n",
    "      print(\"Player: paper vs CPU: scissors, you loose!\")\n",
    "      cpu_score += 1\n",
    "  elif player == \"scissors\":\n",
    "    if cpu == \"rock\":\n",
    "      print(\"Player: scissors vs CPU: rock, you loose!\")\n",
    "      cpu_score += 1\n",
    "    elif cpu == \"paper\":\n",
    "      print(\"Player: scissors vs CPU: paper, you win!\")\n",
    "      player_score += 1\n",
    "    elif cpu == \"scissors\":\n",
    "      print(\"Player: scissors vs CPU: scissors, it is a tie!\")\n",
    "\n",
    "   \n",
    "game(player_choice(gesture),cpu_choice(gestures))"
   ]
  },
  {
   "cell_type": "markdown",
   "metadata": {},
   "source": [
    "#### 10. Now it's time to code the execution of the game using the functions and variables you defined above. \n",
    "\n",
    "First, create a loop structure that repeats while no player reaches the minimum score necessary to win and the number of rounds is less than the maximum number of rounds to play in a game.  \n",
    "\n",
    "Inside the loop, use the functions and variables above to create the execution of a round: ask for the player's choice, generate the random choice of the computer, show the round results, update the scores, etc. "
   ]
  },
  {
   "cell_type": "code",
   "execution_count": 52,
   "metadata": {},
   "outputs": [
    {
     "name": "stdout",
     "output_type": "stream",
     "text": [
      "Insert your choice!:paperp\n",
      "Insert your choice!:paper\n",
      "Player: paper vs CPU: paper, it is a tie!\n",
      "Insert your choice!:rock\n",
      "Player: rock vs CPU: scissors, you win!\n",
      "Insert your choice!:paper\n",
      "Player: paper vs CPU: scissors, you loose!\n",
      "You won 1 games, and cpu won 1 games so, it is a tie!\n"
     ]
    }
   ],
   "source": [
    "def game():\n",
    "  gestures = [\"rock\" , \"paper\" , \"scissors\"]\n",
    "  cpu_score = 0\n",
    "  player_score = 0\n",
    "  n_rounds = 3\n",
    "  actual_round = 0\n",
    "  rounds_to_win = 2\n",
    "  \n",
    "  while (actual_round < n_rounds) and (player_score < 2 and cpu_score < 2):  \n",
    "\n",
    "      player = input(\"Insert your choice!:\")\n",
    "      cpu = random.choice(gestures)\n",
    "\n",
    "      if player == \"rock\":\n",
    "        if cpu == \"rock\":\n",
    "          print(\"Player: rock vs CPU: rock, it is a tie!\")\n",
    "          actual_round += 1\n",
    "        elif cpu == \"paper\":\n",
    "          print(\"Player: rock vs CPU: paper, you loose!\")\n",
    "          cpu_score += 1\n",
    "          actual_round += 1\n",
    "        elif cpu == \"scissors\":\n",
    "          print(\"Player: rock vs CPU: scissors, you win!\")\n",
    "          player_score += 1\n",
    "          actual_round += 1\n",
    "      elif player == \"paper\":\n",
    "        if cpu == \"rock\":\n",
    "          print(\"Player: paper vs CPU: rock, you win!\")\n",
    "          player_score += 1\n",
    "          actual_round += 1\n",
    "        elif cpu == \"paper\":\n",
    "          print(\"Player: paper vs CPU: paper, it is a tie!\")\n",
    "          actual_round += 1\n",
    "        elif cpu == \"scissors\":\n",
    "          print(\"Player: paper vs CPU: scissors, you loose!\")\n",
    "          cpu_score += 1\n",
    "          actual_round += 1\n",
    "      elif player == \"scissors\":\n",
    "        if cpu == \"rock\":\n",
    "          print(\"Player: scissors vs CPU: rock, you loose!\")\n",
    "          cpu_score += 1\n",
    "          actual_round += 1\n",
    "        elif cpu == \"paper\":\n",
    "          print(\"Player: scissors vs CPU: paper, you win!\")\n",
    "          player_score += 1\n",
    "          actual_round += 1\n",
    "        elif cpu == \"scissors\":\n",
    "          print(\"Player: scissors vs CPU: scissors, it is a tie!\")\n",
    "          actual_round += 1\n",
    "  if player_score > cpu_score:\n",
    "    print(\"Congrats, you won\" , player_score ,\"game/s in a set of 3 games!\")\n",
    "  elif player_score < cpu_score:\n",
    "    print(\"Ooops, you lost\" , cpu_score ,\"game/s in a set of 3 games!\")\n",
    "  else:\n",
    "    print(\"You won\", player_score, \"game/s, and cpu won\", cpu_score, \"game/s so, it is a tie!\")    \n",
    "\n",
    "game()"
   ]
  },
  {
   "cell_type": "markdown",
   "metadata": {},
   "source": [
    "#### 11. Print the winner of the game based on who won more rounds.\n",
    "Remember that the game might be tied. "
   ]
  },
  {
   "cell_type": "code",
   "execution_count": null,
   "metadata": {},
   "outputs": [],
   "source": [
    "#The answer is the previous question"
   ]
  },
  {
   "cell_type": "markdown",
   "metadata": {},
   "source": [
    "# Bonus: Rock, Paper, Scissors, Lizard & Spock\n",
    "![](images/rpsls.jpg)\n",
    "\n",
    "In this challenge, you need to improve the previous game by adding two new options. To know more about the rules of the improved version of rock, paper, scissors, check this [link](http://www.samkass.com/theories/RPSSL.html). \n",
    "\n",
    "In addition, you will also need to improve how the game interacts with the player: the number of rounds to play, which must be an odd number, will be requested to the user until a valid number is entered. Define a new function to make that request.\n",
    "\n",
    "**Hint**: Try to reuse the code that you already coded in the previous challenge. If your code is efficient, this bonus will only consist of simple modifications to the original game."
   ]
  },
  {
   "cell_type": "code",
   "execution_count": 2,
   "metadata": {},
   "outputs": [
    {
     "name": "stdout",
     "output_type": "stream",
     "text": [
      "Welcome to Rock, Paper, Scissors, Lizard, Spock!\n",
      "How many rounds do you want to play?:5\n",
      "ok! This is a best of 5 round/s \n",
      "To win the whole game, you will have to win 3 round/s, or at least, win more round/s than the CPU at the end of the 5 rounds\n",
      "Insert your choice!:spock\n",
      "Player: spock vs CPU: rock, you win!\n",
      "Insert your choice!:lizard\n",
      "Player: lizard vs CPU: spock, you win!\n",
      "Insert your choice!:spock\n",
      "Player: spock vs CPU: rock, you win!\n",
      "Congrats, you won 3 games in a set of 5 games!\n"
     ]
    }
   ],
   "source": [
    "import random\n",
    "\n",
    "\n",
    "def game():\n",
    "  gestures = [\"rock\" , \"paper\" , \"scissors\", \"spock\", \"lizard\"]\n",
    "  cpu_score = 0\n",
    "  player_score = 0\n",
    "  actual_round = 0\n",
    "  rounds_to_win = 0\n",
    "\n",
    "  print(\"Welcome to Rock, Paper, Scissors, Lizard, Spock!\")\n",
    "  \n",
    "  n_rounds = int(input(\"How many rounds do you want to play?:\"))\n",
    "\n",
    "  while n_rounds % 2 == 0:\n",
    "    print(\"Please insert an odd value\")\n",
    "    n_rounds = int(input(\"How many rounds do you want to play?:\"))\n",
    "\n",
    "  if n_rounds == 1:\n",
    "    rounds_to_win == 1\n",
    "  else:\n",
    "    rounds_to_win = int((n_rounds/2) + 0.5)\n",
    "  \n",
    "  print(\"ok! This is a best of\",n_rounds,\"round/s\",\"\\nTo win the whole game, you will have to win\", rounds_to_win, \"round/s, or at least, win more round/s than the CPU at the end of the\",n_rounds,\"rounds\")\n",
    "\n",
    "\n",
    "  while (actual_round < n_rounds) and (player_score < rounds_to_win and cpu_score < rounds_to_win):  \n",
    "\n",
    "      player = input(\"Insert your choice!:\")\n",
    "      cpu = random.choice(gestures)\n",
    "\n",
    "      if player == \"rock\":\n",
    "        if cpu == \"rock\":\n",
    "          print(\"Player: rock vs CPU: rock, it is a tie!\")\n",
    "          actual_round += 1\n",
    "        elif cpu == \"paper\":\n",
    "          print(\"Player: rock vs CPU: paper, you loose!\")\n",
    "          cpu_score += 1\n",
    "          actual_round += 1\n",
    "        elif cpu == \"scissors\":\n",
    "          print(\"Player: rock vs CPU: scissors, you win!\")\n",
    "          player_score += 1\n",
    "          actual_round += 1\n",
    "        elif cpu == \"lizard\":\n",
    "          print(\"Player: rock vs CPU: lizard, you win!\")\n",
    "          player_score += 1\n",
    "          actual_round += 1\n",
    "        elif cpu == \"spock\":\n",
    "          print(\"Player: rock vs CPU: spock, you loose!\")\n",
    "          cpu_score += 1\n",
    "          actual_round += 1\n",
    "      elif player == \"paper\":\n",
    "        if cpu == \"rock\":\n",
    "          print(\"Player: paper vs CPU: rock, you win!\")\n",
    "          player_score += 1\n",
    "          actual_round += 1\n",
    "        elif cpu == \"paper\":\n",
    "          print(\"Player: paper vs CPU: paper, it is a tie!\")\n",
    "          actual_round += 1\n",
    "        elif cpu == \"scissors\":\n",
    "          print(\"Player: paper vs CPU: scissors, you loose!\")\n",
    "          cpu_score += 1\n",
    "          actual_round += 1\n",
    "        elif cpu == \"lizard\":\n",
    "          print(\"Player: paper vs CPU: lizard, you loose!\")\n",
    "          cpu_score += 1\n",
    "          actual_round += 1\n",
    "        elif cpu == \"spock\":\n",
    "          print(\"Player: paper vs CPU: spock, you win!\")\n",
    "          player_score += 1\n",
    "          actual_round += 1\n",
    "      elif player == \"scissors\":\n",
    "        if cpu == \"rock\":\n",
    "          print(\"Player: scissors vs CPU: rock, you loose!\")\n",
    "          cpu_score += 1\n",
    "          actual_round += 1\n",
    "        elif cpu == \"paper\":\n",
    "          print(\"Player: scissors vs CPU: paper, you win!\")\n",
    "          player_score += 1\n",
    "          actual_round += 1\n",
    "        elif cpu == \"scissors\":\n",
    "          print(\"Player: scissors vs CPU: scissors, it is a tie!\")\n",
    "          actual_round += 1\n",
    "        elif cpu == \"lizard\":\n",
    "          print(\"Player: scissors vs CPU: lizard, you win!\")\n",
    "          player_score += 1\n",
    "          actual_round += 1\n",
    "        elif cpu == \"spock\":\n",
    "          print(\"Player: scissors vs CPU: spock, you loose!\")\n",
    "          cpu_score += 1\n",
    "          actual_round += 1\n",
    "      elif player == \"spock\":\n",
    "        if cpu == \"rock\":\n",
    "          print(\"Player: spock vs CPU: rock, you win!\")\n",
    "          player_score += 1\n",
    "          actual_round += 1\n",
    "        elif cpu == \"paper\":\n",
    "          print(\"Player: spock vs CPU: paper, you loose!\")\n",
    "          cpu_score += 1\n",
    "          actual_round += 1\n",
    "        elif cpu == \"spock\":\n",
    "          print(\"Player: spock vs CPU: spock, it is a tie!\")\n",
    "          actual_round += 1\n",
    "        elif cpu == \"lizard\":\n",
    "          print(\"Player: spock vs CPU: lizard, you loose!\")\n",
    "          cpu_score += 1\n",
    "          actual_round += 1\n",
    "        elif cpu == \"scissors\":\n",
    "          print(\"Player: spock vs CPU: scissors, you win!\")\n",
    "          player_score += 1\n",
    "          actual_round += 1\n",
    "      elif player == \"lizard\":\n",
    "        if cpu == \"rock\":\n",
    "          print(\"Player: lizard vs CPU: rock, you loose!\")\n",
    "          cpu_score += 1\n",
    "          actual_round += 1\n",
    "        elif cpu == \"lizard\":\n",
    "          print(\"Player: lizard vs CPU: lizard, it is a tie!\")\n",
    "          actual_round += 1\n",
    "        elif cpu == \"scissors\":\n",
    "          print(\"Player: lizard vs CPU: scissors, you loose!\")\n",
    "          cpu_score += 1\n",
    "          actual_round += 1\n",
    "        elif cpu == \"paper\":\n",
    "          print(\"Player: lizard vs CPU: paper, you win!\")\n",
    "          player_score += 1\n",
    "          actual_round += 1\n",
    "        elif cpu == \"spock\":\n",
    "          print(\"Player: lizard vs CPU: spock, you win!\")\n",
    "          player_score += 1\n",
    "          actual_round += 1\n",
    "\n",
    "  \n",
    "  if player_score > cpu_score:\n",
    "    print(\"Congrats, you won\" , player_score ,\"games in a set of\" , n_rounds , \"games!\")\n",
    "  elif player_score < cpu_score:\n",
    "    print(\"Ooops, you lost\" , cpu_score ,\"games in a set of\" , n_rounds , \"games!\")\n",
    "  else:\n",
    "    print(\"You won\", player_score, \"games, and cpu won\", cpu_score, \"games so, it is a tie!\")    \n",
    "\n",
    "game()"
   ]
  },
  {
   "cell_type": "code",
   "execution_count": null,
   "metadata": {},
   "outputs": [],
   "source": []
  }
 ],
 "metadata": {
  "kernelspec": {
   "display_name": "Python 3",
   "language": "python",
   "name": "python3"
  },
  "language_info": {
   "codemirror_mode": {
    "name": "ipython",
    "version": 3
   },
   "file_extension": ".py",
   "mimetype": "text/x-python",
   "name": "python",
   "nbconvert_exporter": "python",
   "pygments_lexer": "ipython3",
   "version": "3.7.4"
  }
 },
 "nbformat": 4,
 "nbformat_minor": 2
}

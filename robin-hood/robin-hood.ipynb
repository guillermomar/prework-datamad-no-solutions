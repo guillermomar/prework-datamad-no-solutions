{
 "cells": [
  {
   "cell_type": "markdown",
   "metadata": {},
   "source": [
    "<img src=\"https://bit.ly/2VnXWr2\" width=\"100\" align=\"left\"/>"
   ]
  },
  {
   "cell_type": "markdown",
   "metadata": {},
   "source": [
    "# Robin Hood\n",
    "Robin Hood has entered a competition to win the archery contest in Sherwood. With his bow and arrows, he needs to shoot on a target and try to hit as close as possible to the center.\n",
    "\n",
    "![](images/arrows.jpg)\n",
    "\n",
    "## Context\n",
    "In this challenge, the landing position of arrows shot by archers in the competition will be represented using 2-dimensional coordinates. \n",
    "\n",
    "In the 2-dimensional space, a point can be defined by a pair of values that correspond to the horizontal coordinate (x) and the vertical coordinate (y). For example, in our case, an arrow that hits the center of the archery target will land in position (0, 0) on the coordinate axes. \n",
    "\n",
    "The space can be divided into 4 zones (quadrants): Q1, Q2, Q3, Q4. If a point is in Q1, both its x coordinate and y coordinate are positive. Any point with a null x or y coordinate is considered to not belong to any quadrant. \n",
    "\n",
    "If you want to know more about the cartesian coordinate system, you can check this [link](https://en.wikipedia.org/wiki/Cartesian_coordinate_system). \n",
    "\n",
    "## Tools\n",
    "You don't necessarily need to use all the tools. Maybe you opt to use some of them or completely different ones, they are given to help you shape the exercise. Programming exercises can be solved in many different ways.\n",
    "* Data structures: **lists, sets, tuples**\n",
    "* Conditional statements: **if-elif-else**\n",
    "* Loop: **while/for**\n",
    "* Minimum (optional sorting)\n",
    "\n",
    "## Tasks\n",
    "Robin Hood has hit the following points:"
   ]
  },
  {
   "cell_type": "code",
   "execution_count": 8,
   "metadata": {},
   "outputs": [],
   "source": [
    "points = [(4, 5), (-0, 2), (4, 7), (1, -3), (3, -2), (4, 5), (3, 2), (5, 7), (-5, 7), (2, 2), (-4, 5), (0, -2),\n",
    "          (-4, 7), (-1, 3), (-3, 2), (-4, -5), (-3, 2), (5, 7), (5, 7), (2, 2), (9, 9), (-8, -9)]"
   ]
  },
  {
   "cell_type": "markdown",
   "metadata": {},
   "source": [
    "#### 1. Robin Hood is famous for hitting an arrow with another arrow. Find the coordinates of the points where an arrow hits another arrow."
   ]
  },
  {
   "cell_type": "code",
   "execution_count": 9,
   "metadata": {},
   "outputs": [],
   "source": [
    "\"\"\"\" Im not sure if i understood this problem in the right way. For me, the \"coordinates of the points where \n",
    "an arrow hits another arrow\" are the same coordinates (4,5),(-0,2),(...) \n",
    "we saw above, where Robin Hood hit the target for the first time.  \"\"\"\n",
    "coordinates = [(4, 5), (-0, 2), (4, 7), (1, -3), (3, -2), (4, 5), (3, 2), (5, 7), (-5, 7), (2, 2), (-4, 5), (0, -2),\n",
    "          (-4, 7), (-1, 3), (-3, 2), (-4, -5), (-3, 2), (5, 7), (5, 7), (2, 2), (9, 9), (-8, -9)]"
   ]
  },
  {
   "cell_type": "markdown",
   "metadata": {},
   "source": [
    "#### 2. Calculate how many arrows have fallen in each quadrant. \n",
    "**Note**: the arrows that fall in the axis (x=0 or y=0) don't belong to any quadrant."
   ]
  },
  {
   "cell_type": "code",
   "execution_count": 10,
   "metadata": {},
   "outputs": [
    {
     "name": "stdout",
     "output_type": "stream",
     "text": [
      "10 Arrows have fallen in Q1 \n",
      " 2 Arrows have fallen in Q2 \n",
      " 2 Arrows have fallen in Q3 \n",
      " 6 Arrows have fallen in Q4 \n",
      " 2 Arrows have fallen in no quadrant \n",
      "\n"
     ]
    }
   ],
   "source": [
    "Q1 = 0\n",
    "Q2 = 0\n",
    "Q3 = 0\n",
    "Q4 = 0\n",
    "none = 0\n",
    "\n",
    "for x,y in points:\n",
    "  if x > 0 and y > 0:\n",
    "    Q1 += 1\n",
    "\n",
    "  elif x > 0 and y < 0:\n",
    "    Q2 += 1\n",
    "\n",
    "  elif x < 0 and y < 0:\n",
    "    Q3 += 1\n",
    "\n",
    "  elif x < 0 and y > 0:\n",
    "    Q4 += 1\n",
    "\n",
    "  elif x == 0 or y == 0:\n",
    "    none += 1\n",
    "\n",
    "print(Q1 , \"Arrows have fallen in Q1 \\n\", Q2 , \"Arrows have fallen in Q2 \\n\", Q3 , \"Arrows have fallen in Q3 \\n\", Q4 , \"Arrows have fallen in Q4 \\n\" , none , \"Arrows have fallen in no quadrant \\n\")"
   ]
  },
  {
   "cell_type": "markdown",
   "metadata": {},
   "source": [
    "#### 3. Find the point closest to the center. Calculate its distance to the center. \n",
    "Take into account that there might be more than one point at the minimum distance to the center.\n",
    "\n",
    "**Hint**: Use the Euclidean distance. You can find more information about it [here](https://en.wikipedia.org/wiki/Euclidean_distance).  \n",
    "**Hint**: Defining a function that calculates the distance to the center can help."
   ]
  },
  {
   "cell_type": "code",
   "execution_count": 11,
   "metadata": {},
   "outputs": [
    {
     "name": "stdout",
     "output_type": "stream",
     "text": [
      "The minimum distance is 2.0\n",
      "So, the closest points to the center are: [(0, 2), (0, -2)]\n"
     ]
    }
   ],
   "source": [
    "\"\"\" if i understood well, the Euclidean distance in two dimensions, consist in: \n",
    "squareroot((q1 - p1)**2 + (q2 - p2)**2). Because we want to obtain the distance to the center, \n",
    "the values for p1 and p2 are 0, so:\"\"\"\n",
    "\n",
    "import math\n",
    "\n",
    "distance = [math.sqrt((x - 0)**2 + (y - 0)**2) for (x , y) in points]\n",
    "minimum = min(distance)\n",
    "print(\"The minimum distance is\" , minimum)\n",
    "\n",
    "points_closest = [(x , y) for (x , y) in points if math.sqrt((x - 0)**2 + (y - 0)**2) == 2 ]\n",
    "print(\"So, the closest points to the center are:\" , points_closest)"
   ]
  },
  {
   "cell_type": "markdown",
   "metadata": {},
   "source": [
    "#### 4. If the archery target has a radius of 9, calculate the number of arrows that won't hit the target. \n",
    "**Hint**: Use the function created in step 3. "
   ]
  },
  {
   "cell_type": "code",
   "execution_count": 12,
   "metadata": {},
   "outputs": [
    {
     "name": "stdout",
     "output_type": "stream",
     "text": [
      "The failed arrows correspond to these coordinates: [(9, 9), (-8, -9)]\n",
      "So, the archer failed 2 arrows\n"
     ]
    }
   ],
   "source": [
    "#to know if a point is inside a circunference we need to now if distance <= radius\n",
    "\n",
    "failures = [(x , y) for (x , y) in points if math.sqrt((x - 0)**2 + (y - 0)**2) > 9 ]\n",
    "\n",
    "print(\"The failed arrows correspond to these coordinates:\" , failures)\n",
    "\n",
    "failed_arrows = len(failures)\n",
    "print(\"So, the archer failed\" , failed_arrows , \"arrows\")"
   ]
  }
 ],
 "metadata": {
  "kernelspec": {
   "display_name": "Python 3",
   "language": "python",
   "name": "python3"
  },
  "language_info": {
   "codemirror_mode": {
    "name": "ipython",
    "version": 3
   },
   "file_extension": ".py",
   "mimetype": "text/x-python",
   "name": "python",
   "nbconvert_exporter": "python",
   "pygments_lexer": "ipython3",
   "version": "3.7.4"
  }
 },
 "nbformat": 4,
 "nbformat_minor": 2
}
